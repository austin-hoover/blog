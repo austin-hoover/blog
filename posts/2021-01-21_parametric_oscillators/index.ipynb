{
 "cells": [
  {
   "cell_type": "markdown",
   "metadata": {},
   "source": [
    "---\n",
    "title: \"Parametric oscillators\"\n",
    "author: Austin Hoover\n",
    "date: '2021-01-21'\n",
    "image: tbt.gif\n",
    "categories: [classical mechanics, particle accelerators]\n",
    "        \n",
    "---"
   ]
  },
  {
   "cell_type": "code",
   "execution_count": null,
   "metadata": {},
   "outputs": [],
   "source": [
    "#| echo: false\n",
    "#| output: false\n",
    "import os\n",
    "import sys\n",
    "\n",
    "import matplotlib\n",
    "from matplotlib import animation\n",
    "from matplotlib import pyplot as plt\n",
    "import numpy as np\n",
    "import proplot as pplt\n",
    "from psdist import ap\n",
    "\n",
    "pplt.rc['animation.ffmpeg_path'] = '/usr/local/bin/ffmpeg'\n",
    "pplt.rc['animation.html'] = 'jshtml'\n",
    "pplt.rc['animation.embed_limit'] = np.inf\n",
    "pplt.rc['figure.facecolor'] = 'white'\n",
    "pplt.rc['grid'] = False\n",
    "pplt.rc['savefig.dpi'] = 'figure'"
   ]
  },
  {
   "cell_type": "markdown",
   "metadata": {},
   "source": [
    "This post presents the solution to a general problem: the motion of a particle in one dimension in the presence of time-dependent, linear, periodic forces. This amounts to solving the following equation of motion:\n",
    "\n",
    "$$\n",
    "\\frac{d^2x}{dt^2} + k(t)x = 0,\n",
    "$${#eq-Hill}\n",
    "\n",
    "where $k(t + T) = k(t)$ for some $T$. This is a [parametric oscillator](https://en.wikipedia.org/wiki/Parametric_oscillator), a harmonic oscillator whose physical properties are not static. For example, the oscillations of a pendulum (in the small angle approximation) on the surface of a planet whose gravitational pull varies periodically would be described by the above equation. The solution to this equation was derived by [George William Hill](https://en.wikipedia.org/wiki/George_William_Hill) in 1886 to study lunar motion, and for this reason, it is known as Hill’s equation. It also finds application in areas such as condensed matter physics, quantum optics, and accelerator physics. After setting up the physical problem, we will examine the solutions and discuss their relevance to the last application, accelerator physics."
   ]
  },
  {
   "cell_type": "markdown",
   "metadata": {},
   "source": [
    "## Particle accelerators as parametric oscillators"
   ]
  },
  {
   "cell_type": "markdown",
   "metadata": {},
   "source": [
    "[Particle accelerators](https://en.wikipedia.org/wiki/Particle_accelerator) are machines that produce groups of charged particles (*beams*), increase their kinetic energy, and guide them to a target. These machines are invaluable to modern scientific research. The most famous examples are *colliders*, such as the [LHC](https://home.cern/science/accelerators/large-hadron-collider), in which two beams are smashed together to generate fundamental particles. "
   ]
  },
  {
   "cell_type": "markdown",
   "metadata": {},
   "source": [
    "![Fig. 1. A detector at an interaction point in the LHC.](lhc.jpg){width=100% fig-align=\"center\"}"
   ]
  },
  {
   "cell_type": "markdown",
   "metadata": {},
   "source": [
    "A lesser known fact is that the fields of condensed matter physics, material science, chemistry, and biology also benefit tremendously from accelerators; this is due to the effectiveness of scattering experiments in which the deflection of a beam after colliding with a target is used to learn information about the target. The scattered beam is composed of neutrons in *spallation neutron sources* such as [SNS](https://neutrons.ornl.gov/sns), electrons in *electron scattering facilities* such as [CEBAF](https://science.osti.gov/np/Facilities/User-Facilities/CEBAF), or photons in *synchrotron light sources* such as [APS](https://www.aps.anl.gov). In addition to scientific research, accelerators find use in [medicine](http://www.accelerators-for-society.org/health/index.php?id=7), particularly for cancer treatment, and also in various [industrial applications](http://www.accelerators-for-society.org/industry/index.php?id=8)."
   ]
  },
  {
   "cell_type": "markdown",
   "metadata": {},
   "source": [
    "There are generally a few beam properties that are very important to experimentalists; in colliders, it is the energy and luminosity, in spallation sources, it is the intensity, and in light sources, it is the brightness. There is thus a constant need to push these parameters to new regions. For example, below is the famous Livingston plot which shows the energy achieved by various machines over the past century."
   ]
  },
  {
   "cell_type": "markdown",
   "metadata": {},
   "source": [
    "![Fig. 2. Accelerator energy over time. The vertical axis is not the center of mass energy (CME) --- it is the beam energy needed to produce the CME by collision with a resting proton. (source: Rasmus Ischebeck).](livingston.png){width=50% fig-align=\"center\"}"
   ]
  },
  {
   "cell_type": "markdown",
   "metadata": {},
   "source": [
    "There are many physics issues associated with the optimization of these beam parameters. Accelerator physics is a field of applied physics that studies these issues. The task of the accelerator physicist is to understand, control, and measure the journey of the beam from its creation to its final destination. The difficulty of this task has grown over time; the improvement in accelerator performance has brought with it a staggering increase in size and complexity. The construction and operation of modern accelerators generally require years of planning, thousands of scientists and engineers, and hundreds of millions or even billions of dollars. Despite this complexity, the underlying physics principles are quite simple, and the single particle motion in one of these machines can be understood analytically if a few approximations are made. In the end, we will arrive at Hill’s equation.\n",
    "\n",
    "There are three basic tasks an accelerator has to accomplish. First, it must increase the beam energy (acceleration). Second, it must guide the beam along a predetermined path (steering). Third, it must ensure the beam particles remain close together (focusing). It is helpful to use a coordinate system in which the s axis points along the design trajectory, and the x and y axes defined in the plane transverse to s. In this way, the motion is broken up into transverse and longitudinal dynamics."
   ]
  },
  {
   "cell_type": "markdown",
   "metadata": {},
   "source": [
    "![Fig. 3. Curvilinear coordinate system used to describe particle motion along a reference trajectory.](coordinate_system.png){width=50% fig-align=\"center\"}"
   ]
  },
  {
   "cell_type": "markdown",
   "metadata": {},
   "source": [
    "How are these tasks accomplished? Well, particles are charged, and the force on a point charge in an electromagnetic field is given by\n",
    "\n",
    "$$\n",
    "\\mathbf{F} = q\\left({\\mathbf{E} + \\mathbf{v} \\times \\mathbf{B}}\\right),\n",
    "$${#eq-Lorenz}\n",
    "\n",
    "where $q$ is the particle charge, $\\mathbf{v}$ is the particle velocity, $\\mathbf{E}$ is the electric field, and $\\mathbf{B}$ is the magnetic field. An accelerator consists of a series of elements, each with their own $\\mathbf{E}$ and $\\mathbf{B}$; the collection of these elements is called a *lattice*. We need to determine which electric and magnetic fields to use."
   ]
  },
  {
   "cell_type": "markdown",
   "metadata": {},
   "source": [
    "The first task, acceleration, is not the focus of this post. The remaining tasks, steering and focusing, concern the motion in the transverse plane. $\\mathbf{B}$ fields, not $\\mathbf{E}$ fields, are used since their effect grows with increased particle velocity. Any transverse magnetic field $\\mathbf{B} = (B_x, B_y)^T$ can be written using a multipole expansion\n",
    "\n",
    "$$\n",
    "B_y - iB_x = \\sum_{n=1}^{\\infty}\\left({b_n - ia_n}\\right)\\left(\\frac{x + iy}{r_0}\\right)^{n-1}.\n",
    "$${#eq-multipole}\n",
    "\n",
    "We then have the normal multiple coefficients $\\{b_n\\}$, and the skew multipole coefficients $\\{a_n\\}$. The field lines corresponding to the first few terms are shown below."
   ]
  },
  {
   "cell_type": "markdown",
   "metadata": {},
   "source": [
    "![Fig. 4. Multipole expansion of the magnetic field.](multipoles.png){width=90% fig-align=\"center\"}"
   ]
  },
  {
   "cell_type": "markdown",
   "metadata": {},
   "source": [
    "The dipole field $\\mathbf{B} \\propto \\hat{y}$ is perfect for steering, producing the force $\\mathbf{F} \\propto -\\hat{x}$ for a particle moving into the page. The quadrupole field $\\mathbf{B} \\propto y\\hat{x} + x\\hat{y}$ produces the force $\\mathbf{F}_{quad} \\propto -x\\hat{x} + y\\hat{y}$, which is focusing in the horizontal direction, but *defocusing* in the vertical direction; however, net focusing can still be achieved by alternating the direction of the quadrupoles. This is analogous to a beam of light passing through a series of converging and diverging lenses. If the spacing and curvature of the lenses are correctly chosen, net focusing can be achieved."
   ]
  },
  {
   "cell_type": "markdown",
   "metadata": {},
   "source": [
    "![Fig. 5. Single-particle motion in the thin-lense approximation.](thinlens.png){width=90% fig-align=\"center\"}"
   ]
  },
  {
   "cell_type": "markdown",
   "metadata": {},
   "source": [
    "The forces which result from these fields are *linear*, meaning they are proportional the $x$ or $y$ but not $x^2$, $y^3$, etc., and they are *uncoupled*, meaning the dynamics in the $x$ and $y$ dimensions are independent. Now, we may ask, can we produce a perfect dipole or quadrupole field? The answer is no. In reality, there will always be higher order multipoles present in the field, but people work very hard to ensure these are much smaller than the desired multipole. This [video](https://www.youtube.com/watch?v=qTEFZEIWUdo) shows a bit of the construction process for these magnets.  "
   ]
  },
  {
   "cell_type": "markdown",
   "metadata": {},
   "source": [
    "For small oscillations, the equations of motion reduce to\n",
    "\n",
    "$$\n",
    "\\begin{aligned}\n",
    "    x'' \\approx -\\frac{q}{mc \\beta_s \\gamma_s} B_y(x, y, s), \\\\\n",
    "    y'' \\approx +\\frac{q}{mc \\beta_s \\gamma_s} B_x(x, y, s),\n",
    "\\end{aligned}\n",
    "$${#eq-motion-general}\n",
    "\n",
    "where $x' = dx/ds$, $m$ is the particle mass, $c$ is the speed of light in a vacuum, $\\beta_s$ is the particle speed divided by $c$, and $\\gamma_s = (1 - \\beta_s^2)^{-1/2}$. (For simplicity, the curved coordinate system has not been taken into account). We will ignore nonlinear terms since they greatly complicate the dynamics. We will also ignore coupling between the planes. With these approximations, we arrive at the equation of motion for a single particle in the transverse plane:\n",
    "\n",
    "$$\n",
    "x'' + k(s)x = 0.\n",
    "$${#eq-motion-linear}\n",
    "\n",
    "This is Hill's equation (@eq-Hill)."
   ]
  },
  {
   "cell_type": "markdown",
   "metadata": {},
   "source": [
    "## Solving Hill's equation"
   ]
  },
  {
   "cell_type": "markdown",
   "metadata": {},
   "source": [
    "The general solution to Hill's equation is given by\n",
    "\n",
    "$$\n",
    "x(s) = \\sqrt{2J}\\,w(s) \\cos\\left({\\mu(s) + \\delta}\\right).\n",
    "$${#eq-Hill-solution}\n",
    "\n",
    "This introduces an amplitude $w(s) = w(s + L)$ which we call the envelope function, as well as a phase $\\mu$, both of which depend on $s$. The constants $J$ and $\\delta$ are determined by the initial conditions. Let's plot this trajectory in a FODO (focus-off-defocus-off) lattice, which consists of evenly spaced focusing and defocusing quadrupoles. Here is the focusing strength within the lattice (*QF* is the focusing quadrupole and *QD* is the defocusing quadrupole):"
   ]
  },
  {
   "cell_type": "markdown",
   "metadata": {},
   "source": [
    "![Fig. 6. FODO lattice.](fodo_lattice.png){width=70% fig-align=\"center\"}"
   ]
  },
  {
   "cell_type": "markdown",
   "metadata": {},
   "source": [
    "For now we can think of the lattice as repeating itself forever in the $s$ direction. Each black line below is represents the trajectory for a different initial position and slope; although the individual trajectories look rather complicated, the envelope function has a very simple form."
   ]
  },
  {
   "cell_type": "markdown",
   "metadata": {},
   "source": [
    "![Fig. 7. Envelope function and particle trajectories.](envelope.png){width=70% fig-align=\"center\"}"
   ]
  },
  {
   "cell_type": "markdown",
   "metadata": {},
   "source": [
    "The particle motion becomes much easier to interpret if we observe it in position-momentum space, aka *phase space*. The following animation shows the evolution of the particle phase space coordinates at a single position in the lattice. The position shown is $s = nL/4$, where $n$ is the period number, which corresponds to the midpoint between the focusing and defocusing quadrupoles. "
   ]
  },
  {
   "cell_type": "code",
   "execution_count": null,
   "metadata": {},
   "outputs": [],
   "source": [
    "#| echo: false\n",
    "#| output: false\n",
    "n_turns = 34\n",
    "beta = 10.0\n",
    "alpha = 1.25\n",
    "nu = 0.1792\n",
    "\n",
    "V = ap.norm_mat(alpha, beta)\n",
    "P = ap.phase_adv_mat(2.0 * np.pi * nu)\n",
    "M = np.linalg.multi_dot([V, P, np.linalg.inv(V)])\n",
    "X = [[np.sqrt(20.0), 0.0]]\n",
    "for turn in range(n_turns):\n",
    "    X.append(np.matmul(M, X[-1]))\n",
    "X = np.array(X)\n",
    "    \n",
    "# plot.rc['grid'] = False\n",
    "pplt.rc['savefig.dpi'] = 200\n",
    "\n",
    "\n",
    "xmax, xpmax = 1.5 * np.max(X, axis=0)\n",
    "\n",
    "fig, ax = pplt.subplots()\n",
    "ax.format(\n",
    "    xlabel=\"x [mm]\", ylabel=\"x' [mrad]\", \n",
    "    xlim=(-xmax, xmax), ylim=(-xpmax, xpmax),\n",
    "    xspineloc='bottom', yspineloc='left',\n",
    ")\n",
    "plt.close()\n",
    "\n",
    "kws = dict(marker='.', mec='None', lw=0, color='black', ms=7.5,)\n",
    "old_line, = ax.plot([], [], alpha=0.3, **kws)\n",
    "line, = ax.plot([], [], **kws)\n",
    "\n",
    "def update(i):\n",
    "    x, xp = X[i, :2]\n",
    "    old_line.set_data(X[:i, 0], X[:i, 1])\n",
    "    line.set_data(X[i, 0], X[i, 1])\n",
    "    ax.set_title('Turn {}'.format(i))\n",
    "    \n",
    "anim = animation.FuncAnimation(fig, update, frames=n_turns)\n",
    "anim.save('tbt.gif')"
   ]
  },
  {
   "cell_type": "markdown",
   "metadata": {},
   "source": [
    "![Fig. 8. Phase space coordinates after every focusing period.](tbt.gif){width=50% fig-align=\"center\"}"
   ]
  },
  {
   "cell_type": "markdown",
   "metadata": {},
   "source": [
    "The particle jumps around an ellipse in phase space. The shape and orientation of the ellipse will change if we look at a different position in the lattice, but its area will be the same. So, the motion is determined by the dimensions and oriention of this ellipse throughout the lattice, as well as the location of the particle on the ellipse boundary. This motivates the definition of the so-called *Twiss parameters*, which were first introduced by Courant and Snyder in 1958:\n",
    "\n",
    "$$\n",
    "\\beta = w^2, \\quad \\alpha = -\\frac{1}{2}\\beta', \\quad \\gamma = \\frac{1 + \\alpha^2}{\\beta}.\n",
    "$${#eq-Twiss}\n",
    "\n",
    "The dimensions of the phase space ellipse are nicely described by these parameters:"
   ]
  },
  {
   "cell_type": "markdown",
   "metadata": {},
   "source": [
    "![Fig. 9. Courant-Snyder ellipse.](cs_ellipse.png){width=50%}"
   ]
  },
  {
   "cell_type": "markdown",
   "metadata": {},
   "source": [
    "The maximum extent of the ellipse is determined by $\\beta$ in the $x$ direction and $\\gamma$ in the $y$ direction. $\\alpha$ is proportional to the slope of the $\\beta$ function, and so determines the tilt angle of the ellipse. The position of a particle on the ellipse is given by the phase $\\mu$. Finally, the invariant of the motion corresponding to the ellipse area is proportional to $2J = \\beta {x'}^2 + 2\\alpha xx' + \\gamma x^2$ for any $x$ and $x'$. The $\\beta$ functions and phase advances in both dimensions are extremely important to measure and control in a real machine."
   ]
  },
  {
   "cell_type": "markdown",
   "metadata": {},
   "source": [
    "A helpful tool to pair with the parameterization we just introduced is the *transfer matrix*, a matrix which connects the phase space coordinates at two different positions:\n",
    "\n",
    "$$\n",
    "\\begin{bmatrix} x \\\\ x' \\end{bmatrix}_{s + L} \n",
    "= \\mathbf{M}\\begin{bmatrix} x \\\\ x' \\end{bmatrix}_{s}\n",
    "$${#eq-i}\n",
    "\n",
    "The transfer matrix can be written as $\\mathbf{M} = \\mathbf{V}\\mathbf{P}\\mathbf{V}^{-1}$, where\n",
    "\n",
    "$$\\mathbf{V} = \\frac{1}{\\sqrt{\\beta}} \\begin{bmatrix} \\beta & 0 \\\\ -\\alpha & 1 \\end{bmatrix}$$\n",
    "and \n",
    "$$\n",
    "\\mathbf{P} = \\begin{bmatrix}\n",
    "  \\cos\\mu & \\sin\\mu \\\\ -\\sin\\mu & \\cos\\mu\n",
    "\\end{bmatrix}\n",
    "$$\n",
    "\n",
    "The effect of $\\mathbf{V}^{-1}$ is to deform the phase space ellipse into a circle while preserving its area. $\\mathbf{P}$ is then just a rotation in phase space, and $\\mathbf{V}$ then transforms back into a tilted ellipse. This is illustrated below. $\\mathbf{V}$ can be thought of as a time-dependent transformation which removes the variance in the focusing strength, turning the parametric oscillator into a simple harmonic oscillator. It is often called the *Floquet transformation*."
   ]
  },
  {
   "cell_type": "markdown",
   "metadata": {},
   "source": [
    "![Fig. 10. Effect of the Floquet transformation on the Courant-Snyder ellipse.](norm_coords.png){width=100%}"
   ]
  },
  {
   "cell_type": "markdown",
   "metadata": {},
   "source": [
    "## Conclusion"
   ]
  },
  {
   "cell_type": "markdown",
   "metadata": {},
   "source": [
    "We've presented the solution to Hill's equation, which describes a parameteric oscillator. The equation pops up in multiple areas, but we focused on its application in accelerator physics, in which Hill's equation describes the transverse motion of a single particle in an accelerator with perfectly linear magnetic fields.\n",
    "\n",
    "The solution is best understood geometrically: particles move around the surface of an ellipse in phase space, the area of which is an invariant of the motion. The dimensions and orientation of the ellipse are determined by $\\alpha$ and $\\beta$, and the location of the particle on the ellipse boundary is determined by $\\mu$. These parameters can be used to construct a time-dependent transformation ($\\mathbf{V}$) which turns the parametric oscillator into a simple harmonic oscillator.\n",
    "\n",
    "The next post will examine how this treatment can be extended to include coupling between the horizontal and vertical dimensions."
   ]
  }
 ],
 "metadata": {
  "kernelspec": {
   "display_name": "Python 3 (ipykernel)",
   "language": "python",
   "name": "python3"
  },
  "language_info": {
   "codemirror_mode": {
    "name": "ipython",
    "version": 3
   },
   "file_extension": ".py",
   "mimetype": "text/x-python",
   "name": "python",
   "nbconvert_exporter": "python",
   "pygments_lexer": "ipython3",
   "version": "3.10.13"
  },
  "toc-autonumbering": false,
  "varInspector": {
   "cols": {
    "lenName": 16,
    "lenType": 16,
    "lenVar": 40
   },
   "kernels_config": {
    "python": {
     "delete_cmd_postfix": "",
     "delete_cmd_prefix": "del ",
     "library": "var_list.py",
     "varRefreshCmd": "print(var_dic_list())"
    },
    "r": {
     "delete_cmd_postfix": ") ",
     "delete_cmd_prefix": "rm(",
     "library": "var_list.r",
     "varRefreshCmd": "cat(var_dic_list()) "
    }
   },
   "types_to_exclude": [
    "module",
    "function",
    "builtin_function_or_method",
    "instance",
    "_Feature"
   ],
   "window_display": false
  }
 },
 "nbformat": 4,
 "nbformat_minor": 4
}
