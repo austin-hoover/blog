{
 "cells": [
  {
   "cell_type": "markdown",
   "metadata": {},
   "source": [
    "---\n",
    "title: \"Computing matched envelopes\"\n",
    "date: 2021-05-13\n",
    "author: Austin Hoover\n",
    "categories: [particle accelerators, space charge, Vlasov]\n",
    "image: corner.png\n",
    "bibliography: references.bib\n",
    "csl: american-physics-society.csl\n",
    "---"
   ]
  },
  {
   "cell_type": "markdown",
   "metadata": {},
   "source": [
    "My first peer-reviewed paper was published in Physical Review Accelerators and Beams (PRAB) at the end of April[@Hoover2021]. I thought I would summarize the results of the paper here."
   ]
  },
  {
   "cell_type": "markdown",
   "metadata": {},
   "source": [
    "## 1. Self-consistent beam distributions"
   ]
  },
  {
   "cell_type": "markdown",
   "metadata": {},
   "source": [
    "### 1.1. Space charge"
   ]
  },
  {
   "cell_type": "markdown",
   "metadata": {},
   "source": [
    "A beam of charged particles generates an electric field, which then exerts a force on each particle, whose motion modifies the electric field, and so on. This problem is familiar to plasma physics. One important feature of charged particle beams is that they are *non-neutral*, i.e., all particles have the same charge. Thus, all forces are long-range, making the problem difficult to handle analytically."
   ]
  },
  {
   "cell_type": "markdown",
   "metadata": {},
   "source": [
    "Here, I will briefly discuss one way in which space charge limits the performance of particle accelerators. In particular, I will discuss the difficulties caused by the fact that the space charge force on a given particle depends nonlinearly on the particle's position. For example, consider the following two charge distributions and the radial electric fields they produce."
   ]
  },
  {
   "cell_type": "code",
   "execution_count": null,
   "metadata": {},
   "outputs": [],
   "source": [
    "#| echo: false\n",
    "import sys\n",
    "sys.path.append('/Users/austin/repo/psdist/')"
   ]
  },
  {
   "cell_type": "code",
   "execution_count": null,
   "metadata": {},
   "outputs": [],
   "source": [
    "#| echo: true\n",
    "#| code-fold: true\n",
    "#| code-summary: \"Imports\"\n",
    "#hide\n",
    "from matplotlib import animation\n",
    "from matplotlib.lines import Line2D\n",
    "from matplotlib.patches import Ellipse\n",
    "from matplotlib import pyplot as plt\n",
    "import numpy as np\n",
    "import proplot as pplt\n",
    "import psdist.visualization as psv\n",
    "from scipy.integrate import odeint"
   ]
  },
  {
   "cell_type": "code",
   "execution_count": null,
   "metadata": {},
   "outputs": [],
   "source": [
    "#| echo: false\n",
    "#| output: false\n",
    "pplt.rc['animation.html'] = 'jshtml'\n",
    "pplt.rc['animation.ffmpeg_path'] = '/usr/local/bin/ffmpeg'\n",
    "pplt.rc['cmap.discrete'] = False\n",
    "pplt.rc['cmap.sequential'] = 'mono'\n",
    "pplt.rc['figure.facecolor'] = 'white'\n",
    "pplt.rc['grid'] = False\n",
    "pplt.rc['savefig.dpi'] = 180"
   ]
  },
  {
   "cell_type": "code",
   "execution_count": null,
   "metadata": {},
   "outputs": [],
   "source": [
    "# | echo: true\n",
    "# | code-fold: true\n",
    "# Generate a uniform density distribution.\n",
    "np.random.seed(6)\n",
    "n = int(1e4)\n",
    "rho = 2.0 * np.sqrt(np.random.uniform(size=n))\n",
    "phi = np.random.uniform(0, 2 * np.pi, size=n)\n",
    "X1 = np.vstack([rho * np.cos(phi), rho * np.sin(phi)]).T\n",
    "\n",
    "# Generate a Gaussian distribution.\n",
    "X2 = np.random.normal(scale=1.0, size=(n, 2))\n",
    "\n",
    "# Plot the distributions.\n",
    "fig, axs = pplt.subplots(\n",
    "    nrows=2, ncols=2, figwidth=5.5, span=False, wspace=7.0, height_ratios=[1, 0.3]\n",
    ")\n",
    "for ax, X in zip(axs[0, :], [X1, X2]):\n",
    "    ax.scatter(X[:, 0], X[:, 1], s=0.05, c=\"k\")\n",
    "axs[0, :].format(aspect=1.0, yticks=[], xspineloc=\"neither\", yspineloc=\"neither\")\n",
    "\n",
    "\n",
    "# Plot the radial electric field.\n",
    "def Efield(r, kind=\"gaussian\"):\n",
    "    if r == 0:\n",
    "        return 0.0\n",
    "    if kind == \"uniform\":\n",
    "        if abs(r) <= 2.0:\n",
    "            return 0.25 * r\n",
    "        else:\n",
    "            return 1.0 / r\n",
    "    elif kind == \"gaussian\":\n",
    "        return (1.0 / r) * (1.0 - np.exp(-0.5 * r**2))\n",
    "\n",
    "\n",
    "radii = np.linspace(-4.0, 4.0, 100)\n",
    "for ax, kind in zip(axs[1, :], [\"uniform\", \"gaussian\"]):\n",
    "    electric_field = np.array([Efield(r, kind) for r in radii])\n",
    "    ax.plot(radii, electric_field, color=\"black\")\n",
    "axs[1, :].format(\n",
    "    ylabel=r\"$E_r$\",\n",
    "    xlabel=r\"r / $\\sigma$\",\n",
    "    xspineloc=\"bottom\",\n",
    "    yspineloc=\"left\",\n",
    "    yticks=[0.0],\n",
    "    ygrid=True,\n",
    ")\n",
    "plt.close()"
   ]
  },
  {
   "cell_type": "code",
   "execution_count": null,
   "metadata": {},
   "outputs": [],
   "source": [
    "#| echo: false\n",
    "fig.save('_output_uniform_gaussian.png', dpi=250)"
   ]
  },
  {
   "cell_type": "markdown",
   "metadata": {},
   "source": [
    "![Fig. 1. Comparison of radial electric field generated by a uniform distribution (left) and Gaussian distribution (right).](_output_uniform_gaussian.png){width=65%}"
   ]
  },
  {
   "cell_type": "markdown",
   "metadata": {},
   "source": [
    "The left distribution produces an electric field that is proportional to the radius, i.e., it gives rise to linear space charge forces. The right distribution produces an electric field that depends nonlinearly on the radius, i.e., it gives rise to nonlinear space charge forces."
   ]
  },
  {
   "cell_type": "markdown",
   "metadata": {},
   "source": [
    "Nonlinear forces lead to filamentation and effective growth in phase space volume (in a course-grained sense). We typically estimate the phase space volume from the covariance matrix of the distribution: the covariance matrix defines an ellipsoid whose volume is easy to compute. We call this volume the root-mean-square *emittance*. Emittance growth is generally undesired as it degrades the beam quality and leads to beam loss. Fig. 2. shows an example of the emittance growth that can be caused by the space charge forces in an intense beam propagating in a linear focusing channel."
   ]
  },
  {
   "cell_type": "markdown",
   "metadata": {},
   "source": [
    "![Fig. 2. Emittance growth in an intense beam propagating in a linear accelerator. The emittances $\\varepsilon_{x,y}$ correspond to the areas in the projected phase spaces $x$-$p_x$ and $y$-$p_y$ (Source:[@Hofmann2017].)](fig7.png){width=55%}"
   ]
  },
  {
   "cell_type": "markdown",
   "metadata": {},
   "source": [
    "Another difficulty is specific to circular accelerators (rings). Rings are designed such that each particle performs stable transverse oscillations about some reference trajectory. The oscillations are not simple-harmonic, but they can be described by a small number of parameters.^[I discuss this [here](https://austin-hoover.github.io/posts/2021-01-21-parametric_oscillators/2021-01-21-parametric_oscillators.html) and [here](https://austin-hoover.github.io/posts/2021-01-25_coupled_parametric_oscillators/2021-01-25-coupled_parametric_oscillators.html).] One of these parameters is the *tune*, which is something like a frequency. For certain values of the tune, nonlinear *magnetic* fields in the ring can drive single-particle resonances.^[I discuss this [here](https://austin-hoover.github.io/posts/2021-03-28_nonlinear_resonances/2021-03-28-nonlinear_resonances.html).] To avoid resonance conditions up to order $|M_x + M_y|$, the tunes $\\nu_{x, y}$ must be far from the lines defined by $M_x \\nu_x + M_y \\nu_y = N$, where $M_x$, $M_y$, and $N$ are integers. \n",
    "\n",
    "Space charge decreases the tune of each particle. This wouldn't be a problem if the shift was the same for each particle, but a nonlinear space charge force causes the tune shift to depend on the particle's position, resulting in a *tune spread* that grows with the beam intensity. At high intensities, it becomes unavoidable that some particles cross dangerous low-order resonance lines. This is illustrated in Fig. 3."
   ]
  },
  {
   "cell_type": "markdown",
   "metadata": {},
   "source": [
    "![Fig. 3. Simulated tune spread in the SNS ring. (Source:[@Galambos1999].)](fig6.png){width=50%}"
   ]
  },
  {
   "cell_type": "markdown",
   "metadata": {},
   "source": [
    "It seems plausible that a beam producing linear space charge forces would alleviate these problems, enabling higher beam intensities. We already have an example of one such beam in Fig. 1: a uniform-density ellipse. But if we transported this beam through an accelerator, would its uniform density be maintained? There are only a few cases in which the answer is \"yes\"; we call these cases *self-consistent*."
   ]
  },
  {
   "cell_type": "markdown",
   "metadata": {},
   "source": [
    "### 1.2. Vlasov equilibria"
   ]
  },
  {
   "cell_type": "markdown",
   "metadata": {},
   "source": [
    "To evolve the beam, we need to specify not only the distribution of particle positions but also the distribution of velocities; in other words, we need to specify the distribution in four-dimensional position-momentum space (phase space). We then apply the framework of statistical mechanics, which I will briefly summarize."
   ]
  },
  {
   "cell_type": "markdown",
   "metadata": {},
   "source": [
    "A collisionless, two-dimensional[^By two-dimensional, we mean that the beam extends forever in the $z$ direction.] beam of charged particles may be represented by a distribution function $f(\\mathbf{x}, \\mathbf{x}', s)$, where $\\mathbf{x} = (x, y)^T$ is the transverse position, $\\mathbf{x}' = d\\mathbf{x}/ds$ is the transverse momentum, $s = \\beta c t$ is the axial position, $t$ is the time, $\\beta c$ is the beam velocity, and $c$ is the speed of light. In a linear, uncoupled focusing system represented by $\\mathbf{\\kappa(s)}$, the distribution function evolves according to the Vlasov-Poisson system of equations:\n",
    "\n",
    "$$\n",
    "\\frac{\\partial{f}}{\\partial{s}} + \n",
    "\\mathbf{x}'\\cdot \\frac{\\partial{f}}{\\partial{\\mathbf{x}}} + \n",
    "\\mathbf{x}'' \\cdot \\frac{\\partial{f}}{\\partial{\\mathbf{x}'}} \n",
    "= 0.\n",
    "$${#eq-Vlasov}\n",
    "\n",
    "$$ \n",
    "\\mathbf{x}'' + \\mathbf{\\kappa}(s)\\mathbf{x} = \n",
    "-\\frac{q}{mc^2\\beta^2\\gamma^3} \\frac{\\partial \\Phi}{\\partial \\mathbf{x}}.\n",
    "$${#eq-EOM}\n",
    "\n",
    "Here $q$ is the charge, $m$ is the mass, $\\gamma = \\left(1 - \\beta^2\\right)^{-1/2}$, and the electric potential $\\Phi$ is determined self-consistently from the Poisson equation:\n",
    "\n",
    "$$ \n",
    "-\\frac{\\partial^2 \\Phi}{\\partial \\mathbf{x}^2} = \n",
    "\\frac{q}{\\varepsilon_0} \\int{f(\\mathbf{x}, \\mathbf{x}', s) \\mathbf{dx}'}.\n",
    "$${#eq-Poisson}"
   ]
  },
  {
   "cell_type": "markdown",
   "metadata": {},
   "source": [
    "This highly nonlinear integro-differential system of equations is difficult to solve analytically. Exact solutions are called *equilibrium distributions* and have the form $f = f(\\{C_i\\}),$ where $\\{C_i\\}$ are invariants of the motion. When the focusing is time-independent ($\\mathbf{\\kappa}(s) = \\mathbf{\\kappa}$), the Hamiltonian is an invariant and any function of the Hamiltonian is an equilibrium distribution. But when the focusing is time-dependent, the solution is unclear.\n",
    "\n",
    "For some time, only one solution existed for linear time-dependent systems, but recently, at least one additional solution has been found. Both solutions project to a uniform density ellipse in the $x$-$y$ plane, producing linear space charge forces. And since they are equilibrium solutions, they are guaranteed to maintain their functional form as they evolve. This is just what we define as a self-consistent distribution; self-consistent distributions are the subset of Vlasov equilibrium distributions that produce linear space charge forces. I will not discuss how these solutions are found in this post. I will instead focus on some of their properties."
   ]
  },
  {
   "cell_type": "markdown",
   "metadata": {},
   "source": [
    "### 1.2. KV distribution"
   ]
  },
  {
   "cell_type": "markdown",
   "metadata": {},
   "source": [
    "The first self-consistent distribution was derived by a pair of Russian scientists in 1959 and is known as the KV distribution. Particles in the KV distribution uniformly populate the boundary of an ellipsoid in four-dimensional (4D) phase space. In normalized coordinates, it looks something like\n",
    "\n",
    "$$\n",
    "f(x, p_x, y, p_y) = \\delta(x^2 + {p_y}^2 + y^2 + {p_y}^2 - 1),\n",
    "$${#eq-1}\n",
    "\n",
    "where $\\delta$ is the Diract delta function. Any 2D projection of this 4D shell is a uniform density ellipse."
   ]
  },
  {
   "cell_type": "code",
   "execution_count": null,
   "metadata": {},
   "outputs": [],
   "source": [
    "#| echo: true \n",
    "#| code-fold: true\n",
    "X = np.random.normal(size=(int(7e6), 4))\n",
    "X = np.apply_along_axis(lambda x: x / np.linalg.norm(x), 1, X)\n",
    "grid = psv.cloud.corner(\n",
    "    X,\n",
    "    autolim_kws=dict(pad=0.25),\n",
    "    labels=[r\"$x$\", r\"$p_x$\", r\"$x$\", r\"$p_y$\"],\n",
    "    grid_kws=dict(figwidth=4.5),\n",
    "    rms_ellipse=True,\n",
    "    rms_ellipse_kws=dict(level=2.0),\n",
    ")\n",
    "plt.close()"
   ]
  },
  {
   "cell_type": "code",
   "execution_count": null,
   "metadata": {},
   "outputs": [],
   "source": [
    "#| echo: false\n",
    "grid.fig.save('_output_corner_kv.png', dpi=250)"
   ]
  },
  {
   "cell_type": "markdown",
   "metadata": {},
   "source": [
    "![Fig. 4. 1D and 2D projections of the KV distribution.](_output_corner_kv.png){width=65%}"
   ]
  },
  {
   "cell_type": "markdown",
   "metadata": {},
   "source": [
    "It can be (not easily) shown that the electric field within a uniform-density upright ellipse is\n",
    "\n",
    "$$ \n",
    "\\mathbf{E}(x, y) \\propto \n",
    "\\frac{x}{c_x (c_x + c_y)} \\hat{x} + \n",
    "\\frac{y}{c_y (c_x + c_y)} \\hat{y}, \n",
    "$${#eq-2} \n",
    "\n",
    "where $c_x$ and $c_y$ are the semi-axes of the ellipse. Notice that the field is both linear and uncoupled — $x$ component of the field is proportional to $x$; the $y$ component of the field is proportional to $y$.\n",
    "\n",
    "From here, one can derive a system of differential equations to evolve the distribution. This is an incredible simplification of the Vlasov-Poisson system. The equations track the beam *envelope*, the elliptical boundary containing the particles in the $x$-$y$ plane. These envelope equations, as they're called, have been important for understanding space charge effects. In addition to providing a theoretical benchmark for computer simulations, they capture the approximate behavior of more realistic beams in some cases.^[Notice that in Fig. 1., the Gaussian has an approximately uniform core.] More details are in [@Lund2004]. \n",
    "\n",
    "Let's try integrating these equations in a simple periodic focusing system."
   ]
  },
  {
   "cell_type": "code",
   "execution_count": null,
   "metadata": {},
   "outputs": [],
   "source": [
    "# | echo: true\n",
    "def fodo(s, quad_strength=0.556, cell_length=5.0):\n",
    "    s = (s % cell_length) / cell_length\n",
    "    delta = 0.125\n",
    "    if s < delta or s > 1 - delta:\n",
    "        return +quad_strength\n",
    "    elif 0.5 - delta <= s < 0.5 + delta:\n",
    "        return -quad_strength\n",
    "    return 0.0\n",
    "\n",
    "\n",
    "def kv_derivs(params, s, Q, foc):\n",
    "    cx, cxp, cy, cyp = params\n",
    "    k0x = foc(s)\n",
    "    k0y = -k0x\n",
    "    w = np.zeros(4)\n",
    "    w[0] = cxp\n",
    "    w[2] = cyp\n",
    "    w[1] = -k0x * cx + 2.0 * Q / (cx + cy) + 16.0 * epsx**2 / (cx**3)\n",
    "    w[3] = -k0y * cy + 2.0 * Q / (cx + cy) + 16.0 * epsy**2 / (cy**3)\n",
    "    return w\n",
    "\n",
    "\n",
    "def track_kv(params, positions, Q, foc):\n",
    "    tracked = odeint(kv_derivs, params, positions, args=(Q, foc))\n",
    "    sizes = tracked[:, [0, 2]]\n",
    "    sizes = sizes * 1000.0  # convert to mm\n",
    "    return sizes\n",
    "\n",
    "\n",
    "# Create KV envelope\n",
    "alphax, alphay, betax, betay = 0.0, 0.0, 8.017, 1.544\n",
    "epsx = epsy = 10e-6\n",
    "cx = 2 * np.sqrt(epsx * betax)\n",
    "cy = 2 * np.sqrt(epsy * betay)\n",
    "cxp = cyp = 0.0\n",
    "params = [cx, cxp, cy, cyp]\n",
    "\n",
    "# Integrate envelope equations\n",
    "cell_length = 5.0\n",
    "periods = 4\n",
    "npts = 1000\n",
    "positions = np.linspace(0, cell_length * periods, npts)\n",
    "Q = 1.0e-5\n",
    "sizes = track_kv(params, positions, Q, fodo)\n",
    "sizes0 = track_kv(params, positions, 0.0, fodo)"
   ]
  },
  {
   "cell_type": "code",
   "execution_count": null,
   "metadata": {
    "tags": []
   },
   "outputs": [],
   "source": [
    "# | echo: true\n",
    "# | code-fold: true\n",
    "# | output: false\n",
    "colors = pplt.Cycle(\"colorblind\").by_key()[\"color\"]\n",
    "kws1 = dict(fc=\"lightgrey\", lw=0.75, ec=\"None\")\n",
    "kws2 = dict(fill=False, ls=\"--\", color=\"k\", lw=0.5, alpha=0.5)\n",
    "stride = 10\n",
    "umin = np.min(sizes)\n",
    "umax = np.max(sizes)\n",
    "umax_pad = 1.25 * umax\n",
    "\n",
    "fig, axs = pplt.subplots(\n",
    "    nrows=2,\n",
    "    ncols=2,\n",
    "    figsize=(7, 2.5),\n",
    "    spany=False,\n",
    "    aligny=True,\n",
    "    sharey=False,\n",
    "    sharex=False,\n",
    "    hspace=0.2,\n",
    "    height_ratios=[5.0, 1.0],\n",
    "    width_ratios=[2.75, 1.0],\n",
    ")\n",
    "axs[0, 0].format(xlabel=\"\", ylabel=\"Beam size [mm]\", ylim=(umin - 5, umax + 5))\n",
    "axs[1, 0].format(xlabel=\"s [m]\", ylabel=r\"$k_x$\", yticks=[0], ylim=(-0.6116, 0.6116))\n",
    "axs[:, 0].format(xlim=positions[[0, -1]])\n",
    "axs[1, 0].spines[\"top\"].set_visible(False)\n",
    "axs[0, 1].format(\n",
    "    xticklabels=[],\n",
    "    yticklabels=[],\n",
    "    xlabel=\"x\",\n",
    "    ylabel=\"y\",\n",
    "    xlim=(-umax_pad, umax_pad),\n",
    "    ylim=(-umax_pad, umax_pad),\n",
    ")\n",
    "axs[0, 1].format(xspineloc=\"bottom\", yspineloc=\"left\")\n",
    "axs[1, 1].axis(\"off\")\n",
    "axs[0, 0].format(xticklabels=[])\n",
    "axs[0, 0].legend(\n",
    "    handles=[Line2D([0], [0], color=colors[0]), Line2D([0], [0], color=colors[1])],\n",
    "    labels=[r'$\\sqrt{\\langle{x^2}\\rangle}$', r'$\\sqrt{\\langle{y^2}\\rangle}$'],\n",
    "    ncols=1,\n",
    "    loc=\"upper left\",\n",
    "    fontsize=\"small\",\n",
    "    handlelength=1.5,\n",
    ")\n",
    "axs[1, 0].plot(positions, [fodo(s) for s in positions], color=\"k\", lw=1)\n",
    "plt.close()\n",
    "\n",
    "\n",
    "(line1,) = axs[0, 0].plot([], [])\n",
    "(line2,) = axs[0, 0].plot([], [])\n",
    "axs[0, 0].format(cycle=\"colorblind\")\n",
    "(line3,) = axs[0, 0].plot([], [], ls=\"--\", lw=0.5)\n",
    "(line4,) = axs[0, 0].plot([], [], ls=\"--\", lw=0.5)\n",
    "\n",
    "\n",
    "def update(i):\n",
    "    i = i * stride\n",
    "    line1.set_data(positions[:i], sizes[:i, 0])\n",
    "    line2.set_data(positions[:i], sizes[:i, 1])\n",
    "    line3.set_data(positions[:i], sizes0[:i, 0])\n",
    "    line4.set_data(positions[:i], sizes0[:i, 1])\n",
    "    for patch in axs[0, 1].patches:\n",
    "        patch.set_visible(False)\n",
    "        \n",
    "    for _sizes, _kws in zip([sizes, sizes0], [kws1, kws2]):\n",
    "        axs[0, 1].add_patch(\n",
    "            Ellipse((0, 0), 2.0 * _sizes[i, 0], 2.0 * _sizes[i, 1], **_kws)\n",
    "        )\n",
    "\n",
    "\n",
    "anim = animation.FuncAnimation(\n",
    "    fig, update, frames=len(positions[::stride]), interval=(1000.0 / 14.0)\n",
    ")"
   ]
  },
  {
   "cell_type": "code",
   "execution_count": null,
   "metadata": {},
   "outputs": [],
   "source": [
    "#| echo: false\n",
    "#| output: false\n",
    "anim.save('_output_kv.gif', dpi=250)"
   ]
  },
  {
   "cell_type": "markdown",
   "metadata": {},
   "source": [
    "![Fig. 5. Evolution of the KV distribution in a FODO lattice. Top left: horizontal and vertical beam size. Bottom left: Lattice focusing strength. Right: beam ellipse in the $x$-$y$ plane. Dashed lines are without space charge and solid lines are with space charge.](_output_kv.gif){width=95%}"
   ]
  },
  {
   "cell_type": "markdown",
   "metadata": {},
   "source": [
    "Notice that space charge causes *mismatch oscillations*: without space charge, the beam repeats after each focusing period. More on this in a moment."
   ]
  },
  {
   "cell_type": "markdown",
   "metadata": {},
   "source": [
    "### 1.4. Danilov distribution"
   ]
  },
  {
   "cell_type": "markdown",
   "metadata": {},
   "source": [
    "Recently, a larger class of self-consistent distributions was discovered. It has the following form.\n",
    "\n",
    "$$\n",
    "f(x, p_x, y, p_y) = \\delta(p_x - e_{11} x - e_{12} y) \\delta(p_y - e_{21} x - e_{22} y),\n",
    "$${#eq-3}\n",
    "\n",
    "where the $e_{ij}$ terms are constants. Suppose $e_{11} = e_{22} = 0$ and $e_{21} = -e_{12} = 1$ so that $p_y = x$ and $p_x = -y$; this describes a rotating rigid disk. Here are the 1D and 2D projections in this case:"
   ]
  },
  {
   "cell_type": "code",
   "execution_count": null,
   "metadata": {},
   "outputs": [],
   "source": [
    "#| echo: true \n",
    "#| code-fold: true\n",
    "X = np.random.normal(size=(int(7e6), 4))\n",
    "X = np.apply_along_axis(lambda x: x / np.linalg.norm(x), 1, X)\n",
    "X[:, 3] = +X[:, 0]\n",
    "X[:, 1] = -X[:, 2]\n",
    "grid = psv.cloud.corner(\n",
    "    X,\n",
    "    autolim_kws=dict(pad=0.25),\n",
    "    labels=[r\"$x$\", r\"$p_x$\", r\"$x$\", r\"$p_y$\"],\n",
    "    grid_kws=dict(figwidth=4.5),\n",
    "    rms_ellipse=True,\n",
    "    rms_ellipse_kws=dict(level=2.0),\n",
    ")\n",
    "plt.close()"
   ]
  },
  {
   "cell_type": "code",
   "execution_count": null,
   "metadata": {},
   "outputs": [],
   "source": [
    "#| echo: false\n",
    "grid.fig.save('_output_corner_danilov.png', dpi=250)"
   ]
  },
  {
   "cell_type": "markdown",
   "metadata": {},
   "source": [
    "![Fig. 6. 1D and 2D projections of the Danilov distribution.](_output_corner_danilov.png){width=65%}"
   ]
  },
  {
   "cell_type": "markdown",
   "metadata": {},
   "source": [
    "In general, the particles in the beam swirl in a vortex pattern within an ellipse, always with a uniform density. It is also apparently possible to construct this type of vortex distribution in six-dimensional phase space, which is not true of the KV distribution."
   ]
  },
  {
   "cell_type": "markdown",
   "metadata": {},
   "source": [
    "We can again derive equations for the elliptical beam envelope, but they are now going to include coupling between $x$ and $y$. This is because the beam ellipse tiltes in the $x$-$y$- plane, producing a term proportional to $xy$ in the electric field. More details can be found in[@Danilov2003]."
   ]
  },
  {
   "cell_type": "code",
   "execution_count": null,
   "metadata": {},
   "outputs": [],
   "source": [
    "#| echo: true\n",
    "def get_tilt_angle(a, b, e, f):\n",
    "    return -0.5 * np.arctan2(2.0 * (a * e + b * f), a**2 + b**2 - e**2 - f**2)\n",
    "\n",
    "\n",
    "def get_radii(a, b, e, f):\n",
    "    phi = get_tilt_angle(a, b, e, f)\n",
    "    sin, cos = np.sin(phi), np.cos(phi)\n",
    "    sin2, cos2 = sin**2, cos**2\n",
    "    xx = a**2 + b**2\n",
    "    yy = e**2 + f**2\n",
    "    xy = a * e + b * f\n",
    "    cx = np.sqrt(abs(xx * cos2 + yy * sin2 - 2 * xy * sin * cos))\n",
    "    cy = np.sqrt(abs(xx * sin2 + yy * cos2 + 2 * xy * sin * cos))\n",
    "    return cx, cy\n",
    "\n",
    "\n",
    "def danilov_derivs(params, s, Q, foc):\n",
    "    k0x = foc(s)\n",
    "    k0y = -k0x\n",
    "    a, b, ap, bp, e, f, ep, fp = params\n",
    "    phi = get_tilt_angle(a, b, e, f)\n",
    "    cx, cy = get_radii(a, b, e, f)\n",
    "    cos, sin = np.cos(phi), np.sin(phi)\n",
    "    cos2, sin2, sincos = cos**2, sin**2, sin * cos\n",
    "    T = 2.0 * Q / (cx + cy)\n",
    "    w = np.zeros(8)\n",
    "    w[0] = ap\n",
    "    w[1] = bp\n",
    "    w[4] = ep\n",
    "    w[5] = fp\n",
    "    w[2] = -k0x * a + T * ((a * cos2 - e * sincos) / cx + (a * sin2 + e * sincos) / cy)\n",
    "    w[3] = -k0x * b + T * ((e * sin2 - a * sincos) / cx + (e * cos2 + a * sincos) / cy)\n",
    "    w[6] = -k0y * e + T * ((b * cos2 - f * sincos) / cx + (b * sin2 + f * sincos) / cy)\n",
    "    w[7] = -k0y * f + T * ((f * sin2 - b * sincos) / cx + (f * cos2 + b * sincos) / cy)\n",
    "    return w\n",
    "\n",
    "\n",
    "def track_danilov(params, positions, Q, foc):\n",
    "    tracked = odeint(danilov_derivs, params, positions, args=(Q, foc))\n",
    "    a, b, ap, bp, e, f, ep, fp = tracked.T\n",
    "    xsizes = np.sqrt(a**2 + b**2)\n",
    "    ysizes = np.sqrt(e**2 + f**2)\n",
    "    sizes = np.vstack([xsizes, ysizes]).T * 1000\n",
    "    cx, cy = get_radii(a, b, e, f)\n",
    "    radii = np.vstack([cx, cy]).T * 1000\n",
    "    angles = np.degrees(get_tilt_angle(a, b, e, f))\n",
    "    return sizes, radii, angles\n",
    "\n",
    "\n",
    "# (Calculated matched initial parameters offline)\n",
    "params = np.array([0.0179, 0.0, 0, 0.0022, 0, -0.0079, 0.0051, 0])\n",
    "positions = np.linspace(0.0, 20.0, 1000)\n",
    "sizes, radii, angles = track_danilov(params, positions, Q, fodo)\n",
    "sizes0, radii0, angles0 = track_danilov(params, positions, 0.0, fodo)"
   ]
  },
  {
   "cell_type": "code",
   "execution_count": null,
   "metadata": {},
   "outputs": [],
   "source": [
    "# | echo: true\n",
    "# | code-fold: true\n",
    "# | output: false\n",
    "umin = np.min(sizes)\n",
    "umax = np.max(sizes)\n",
    "umax_pad = 1.25 * umax\n",
    "\n",
    "fig, axs = pplt.subplots(\n",
    "    nrows=2,\n",
    "    ncols=2,\n",
    "    figsize=(7, 2.5),\n",
    "    spany=False,\n",
    "    aligny=True,\n",
    "    sharey=False,\n",
    "    sharex=False,\n",
    "    hspace=0.2,\n",
    "    height_ratios=[5.0, 1.0],\n",
    "    width_ratios=[2.75, 1.0],\n",
    ")\n",
    "axs[0, 0].format(xlabel=\"\", ylabel=\"Beam size [mm]\", ylim=(umin - 5, umax + 5))\n",
    "axs[1, 0].format(xlabel=\"s [m]\", ylabel=r\"$k_x$\", yticks=[0], ylim=(-0.6116, 0.6116))\n",
    "axs[:, 0].format(xlim=positions[[0, -1]])\n",
    "axs[1, 0].spines[\"top\"].set_visible(False)\n",
    "axs[0, 1].format(\n",
    "    xticklabels=[],\n",
    "    yticklabels=[],\n",
    "    xlabel=\"x\",\n",
    "    ylabel=\"y\",\n",
    "    xlim=(-umax_pad, umax_pad),\n",
    "    ylim=(-umax_pad, umax_pad),\n",
    ")\n",
    "axs[0, 1].format(xspineloc=\"bottom\", yspineloc=\"left\")\n",
    "axs[1, 1].axis(\"off\")\n",
    "axs[0, 0].format(xticklabels=[])\n",
    "axs[0, 0].legend(\n",
    "    handles=[Line2D([0], [0], color=colors[0]), Line2D([0], [0], color=colors[1])],\n",
    "    labels=[r'$\\sqrt{\\langle{x^2}\\rangle}$', r'$\\sqrt{\\langle{y^2}\\rangle}$'],\n",
    "    ncols=1,\n",
    "    loc=\"upper left\",\n",
    "    fontsize=\"small\",\n",
    "    handlelength=1.5,\n",
    ")\n",
    "axs[1, 0].plot(positions, [fodo(s) for s in positions], color=\"k\", lw=1)\n",
    "plt.close()\n",
    "\n",
    "\n",
    "line1, = axs[0, 0].plot([], [])\n",
    "line2, = axs[0, 0].plot([], [])\n",
    "axs[0, 0].format(cycle='colorblind')\n",
    "line3, = axs[0, 0].plot([], [], ls='--', lw=0.5)\n",
    "line4, = axs[0, 0].plot([], [], ls='--', lw=0.5)\n",
    "\n",
    "\n",
    "def update(i):\n",
    "    i *= stride\n",
    "    line1.set_data(positions[:i], sizes[:i, 0])\n",
    "    line2.set_data(positions[:i], sizes[:i, 1])\n",
    "    line3.set_data(positions[:i], sizes0[:i, 0])\n",
    "    line4.set_data(positions[:i], sizes0[:i, 1])\n",
    "    for patch in axs[0, 1].patches:\n",
    "        patch.set_visible(False)\n",
    "    axs[0, 1].add_patch(\n",
    "        Ellipse(\n",
    "            (0, 0), 2.0 * radii[i, 0], 2.0 * radii[i, 1], angles[i], \n",
    "            fc='lightgrey', lw=0.75, ec='None'\n",
    "        )\n",
    "    )\n",
    "    axs[0, 1].add_patch(\n",
    "        Ellipse(\n",
    "            (0, 0), 2.0 * radii0[i, 0], 2.0 * radii0[i, 1], angles0[i], \n",
    "            fill=False, ls='--', color='k', lw=0.5, alpha=0.5,\n",
    "        )\n",
    "    )\n",
    "\n",
    "    \n",
    "anim = animation.FuncAnimation(\n",
    "    fig, update, frames=len(positions[::stride]), interval=(1000.0 / 14.0)\n",
    ")"
   ]
  },
  {
   "cell_type": "code",
   "execution_count": null,
   "metadata": {},
   "outputs": [],
   "source": [
    "#| echo: false\n",
    "#| output: false\n",
    "anim.save('_output_danilov.gif', dpi=250)"
   ]
  },
  {
   "cell_type": "markdown",
   "metadata": {},
   "source": [
    "![Fig. 7. Evolution of the Danilov distribution in a FODO lattice. Top left: horizontal and vertical beam size. Bottom left: Lattice focusing strength. Right: beam ellipse in the $x$-$y$ plane. Dashed lines are without space charge and solid lines are with space charge.](_output_danilov.gif){width=95%}"
   ]
  },
  {
   "cell_type": "markdown",
   "metadata": {},
   "source": [
    "Notice that the beam tilts even without space charge. This has to do with the phase relationship between $x$ and $y$. When the beam is upright in the $x$-$y$ plane, $x$ and $y$ are 90 degrees out of phase (think of circular motion); on the other hand, a 0 or 180-degree phase difference would lead to a diagonal line in the $x$-$y$ plane and no correlations in $x$-$p_y$ or $y$-$p_x$.\n",
    "\n",
    "What is a bit less obvious is how space charge affects the beam when it tilts. Although the forces are still linear, the areas of the $x$-$p_x$ and $y$-$p_y$ projections are longer conserved. Below is an example of a turn-by-turn plot (1 turn = 1 period = 5 meters in the above example) in which there are two frequencies involved: a faster oscillation of the beam envelope, and a slower oscillation corresponding to emittance exchange. This kind of emittance exchange is typical of linear coupling.\n"
   ]
  },
  {
   "cell_type": "markdown",
   "metadata": {},
   "source": [
    "![Fig. 8. Period-by-period evolution of a mismatched Danilov distribution.](fig4.png){width=75%}"
   ]
  },
  {
   "cell_type": "markdown",
   "metadata": {},
   "source": [
    "## 2. Finding the matched solution "
   ]
  },
  {
   "cell_type": "markdown",
   "metadata": {},
   "source": [
    "### 2.1. The problem"
   ]
  },
  {
   "cell_type": "markdown",
   "metadata": {},
   "source": [
    "I'll now move on to describing the problem we addressed in the paper. Notice that the focusing strength repeats itself after five meters; we call this the *period length*. A beam is *matched* to the lattice if its [covariance matrix](https://en.wikipedia.org/wiki/Covariance_matrix) $\\mathbf{\\Sigma}$ repeats itself:\n",
    "\n",
    "$$\n",
    "\\mathbf{\\Sigma}(s + L) = \\Sigma(s)\n",
    "$${#eq-4}\n",
    "\n",
    "for all $s$, where $s$ is the position in the lattice, $L$ is the period length, and $\\Sigma$ is the covariance matrix given by\n",
    "\n",
    "$$\n",
    "\\mathbf{\\Sigma} = \\begin{bmatrix}\n",
    "    \\langle{x x}\\rangle & \\langle{x p_x}\\rangle & \\langle{x y}\\rangle & \\langle{x p_y}\\rangle \\\\\n",
    "    \\langle{x p_x}\\rangle & \\langle{p_x p_x}\\rangle & \\langle{y p_x}\\rangle & \\langle{p_x p_y}\\rangle \\\\\n",
    "    \\langle{x y}\\rangle & \\langle{y p_x}\\rangle & \\langle{y y}\\rangle & \\langle{y p_y}\\rangle \\\\\n",
    "    \\langle{x p_y}\\rangle & \\langle{p_x p_y}\\rangle & \\langle{y p_y}\\rangle & \\langle{p_y p_y}\\rangle \\\\\n",
    "\\end{bmatrix} \n",
    "$${#eq-5}"
   ]
  },
  {
   "cell_type": "markdown",
   "metadata": {},
   "source": [
    "(assuming all means are zero). So the matched beam has not only the same shape and orientation in the $x$-$y$ plane, but also the same spread in velocities and *correlations* between the positions and velocites. Finding the matched beam amounts to choosing the correct initial $\\mathbf{\\Sigma}$ such that @eq-4 is true. This task is trivial without space charge but difficult with space charge. "
   ]
  },
  {
   "cell_type": "markdown",
   "metadata": {},
   "source": [
    "The matched envelope is useful for theoretical studies. First, it is a sort of minimum energy solution, minimizing the free energy available to drive emittance growth. Second, it is the most radially compact solution for a given beam intensity. Third, knowledge of the matched envelope is required to analyze the stability of the distribution.^[This has only been done for the KV distribution.] The matched envelope may also be useful in experimental studies. It appears possible to generate an approximate Danilov distribution in a real accelerator, but the method would not work without knowledge of the matched envelope.^[I will discuss this method in future posts.]"
   ]
  },
  {
   "cell_type": "markdown",
   "metadata": {},
   "source": [
    "Our strategy was to solve the problem in simple cases, studying the properties of the matched solution as a function of intensity. There were two challenges to overcome. First, space charge causes the final beam to depend on the initial beam in a potentially complicated way that is unknown before tracking the beam; this is especially true for long lattices and large beam intensities. This meant we would need to iterate to find the solution. Second, it was not immediately clear how to vary the distribution during the search; the full covariance matrix has ten unique elements, and they cannot be varied freely since the covariance matrix must remain positive-definite."
   ]
  },
  {
   "cell_type": "markdown",
   "metadata": {},
   "source": [
    "### 2.2. The solution "
   ]
  },
  {
   "cell_type": "markdown",
   "metadata": {},
   "source": [
    "Consider the equation of motion for a particle in a coupled lattice:\n",
    "\n",
    "$$ \n",
    "\\begin{aligned}\n",
    "    x'' + k_{11}(s)x + k_{13}(s)y + k_{14}(s)y' &= 0, \\\\\n",
    "    y'' + k_{31}(s)x + k_{33}(s)y + k_{23}(s)x' &= 0.\n",
    "\\end{aligned}\n",
    "$${#eq-6}\n",
    "\n",
    "What does space charge do to these equations? For a tilted, uniform density ellipse, it simply modifies $k_{11}$, $k_{13}$, $k_{31}$, and $k_{33}$. We could replicate the effect of space charge by inserting a large number of linear defocusing elements into the lattice. Call this new lattice the *effective lattice*, illustrated below."
   ]
  },
  {
   "cell_type": "markdown",
   "metadata": {},
   "source": [
    "![Fig. 9. Illustration of the *effective lattice* — a linear lattice that replicates the effect of space charge.](fig1.png)"
   ]
  },
  {
   "cell_type": "markdown",
   "metadata": {},
   "source": [
    "The matched beam generates a *periodic* effective lattice. Such a lattice can be parameterized using the language of coupled single-particle dyanmics. I discussed this in a [previous post](https://austin-hoover.github.io/posts/2021-01-25_coupled_parametric_oscillators/2021-01-25-coupled_parametric_oscillators.html)., but will repeat the necessary info here."
   ]
  },
  {
   "cell_type": "markdown",
   "metadata": {},
   "source": [
    "The following figure shows the turn-by-turn trajectory of a single particle in a coupled lattice."
   ]
  },
  {
   "cell_type": "markdown",
   "metadata": {},
   "source": [
    "![Fig. 10. Turn-by-turn coordinates in a coupled lattice (gray). The projections of the eigenvectors are also shown in blue and red.](fig2.png)"
   ]
  },
  {
   "cell_type": "markdown",
   "metadata": {},
   "source": [
    "The turn-by-turn particle coordinates $\\{\\mathbf{x}_i\\}$ trace a torus in 4D phase space. A matched beam is formed by placing a particle at each of these points since the particles will just trade positions after each turn ($\\mathbf{x}_i \\rightarrow \\mathbf{x}_{i+1}$). \n",
    "\n",
    "Let's state this again using the eigenvectors of the one-turn transfer matrix. Each particle can be written as a linear combination of these eigenvectors (shown in blue and red):\n",
    "\n",
    "$$ \n",
    "\\mathbf{x} = \n",
    "\\sqrt{2 J_1}\\mathbf{v}_1e^{-i\\psi_1} +\n",
    "\\sqrt{2 J_2}\\mathbf{v}_2e^{-i\\psi_2}. \n",
    "$$\n",
    "\n",
    "The eigenvectors have amplitudes ($J$) and phases ($\\psi$), and a matched beam is formed by distributing particles along either or both of the eigenvectors with phases ranging uniformly between zero and $2\\pi$. Each eigenvector traces a 4D ellipsoid turn-by-turn. When projected onto any 2D plane, each eigenvector traces an ellipse. Each eigenvector is parameterized by the *4D* Twiss parameters $\\alpha_{1x}$, $\\beta_{1x}$, etc."
   ]
  },
  {
   "cell_type": "markdown",
   "metadata": {},
   "source": [
    "Our insight was that all particles in the Danilov distribution lie along one vector in four-dimensional phase space. This vector is an eigenvector of some unknown $4 \\times 4$ transfer matrix. This transfer matrix is just the transfer matrix of the effective lattice generated by the matched beam. Thus, we need only to vary the parameters of this eigenvector to find the matched beam. There are six eigenvector parameters in the Lebedev-Bogacz formalism: the beam size in each dimension, the beam divergence in each dimension, the phase difference between $x$ and $y$, and the ratio between the $x$ and $y$ emittances. We can also choose which eigenvector to use, so there are two possible solutions for each lattice. We can wrap all these parameters into a vector $\\mathbf{p}$."
   ]
  },
  {
   "cell_type": "markdown",
   "metadata": {},
   "source": [
    "We can frame this as an optimization problem in which we search for the $\\mathbf{p}$ which minimizes the sum of the squared differences between the initial and final moments when tracking through one period. We utilized two different optimization methods. The first was SciPy's [nonlinear least squares](https://docs.scipy.org/doc/scipy/reference/generated/scipy.optimize.least_squares.html), which worked well in most cases. The second strategy was to track the beam over several periods and compute the period-by-period average of $\\mathbf{p}$, then use this average as the seed for the next round. This figure shows the method converging after a few iterations. The relevant code is found [here](https://github.com/austin-hoover/py-orbit/blob/master/py/orbit/envelope/danilov.py)."
   ]
  },
  {
   "cell_type": "markdown",
   "metadata": {},
   "source": [
    "![Fig. 11. Convergence of the matching routine.](fig3.png){width=100%}"
   ]
  },
  {
   "cell_type": "markdown",
   "metadata": {},
   "source": [
    "## 3. Simple applications"
   ]
  },
  {
   "cell_type": "markdown",
   "metadata": {},
   "source": [
    "We demonstrated the matching routine in a FODO lattice (Fig. 12a). We also added some variations, like changing the horizontal/vertical focusing ratio, tilting the quadrupoles (Fig. 12b), and adding a longitudinal magnetic field to generate coupling (Fig. 12c). "
   ]
  },
  {
   "cell_type": "markdown",
   "metadata": {},
   "source": [
    "![Fig. 12. Simple lattices used for testing the matching routine.](fodo_lattices.png){width=60%}"
   ]
  },
  {
   "cell_type": "markdown",
   "metadata": {},
   "source": [
    "Let's start with the regular, uncoupled FODO lattice. Fig. 13. Shows the matched 2D projections of the beam at the lattice entrance, as well as the evolution of the beam sizes, emittances, and x-y phase difference within the lattice."
   ]
  },
  {
   "cell_type": "markdown",
   "metadata": {},
   "source": [
    "![](matched_vs_sc_fodo_mode1.png){width=92% fig-align=center}\n",
    "\n",
    "![Fig. 13. The \"mode 1\" (top) and \"mode 2\" (bottom) matched solutions in an uncoupled FODO lattice. The intensity ($Q$) is represented by the color scale. In the right columns, solid lines represent $x$ and dashed lines represent $y$.](matched_vs_sc_fodo_mode1.png){width=92% fig-align=center}"
   ]
  },
  {
   "cell_type": "markdown",
   "metadata": {},
   "source": [
    "The main takeaway is that space charge scales the matched beam; it does not change its orientation in phase space. Additional observations are: space charge causes emittance evolution within the lattice; space charge encourages the beam to be round (see the bottom-right subplot); the two solutions differ only in the sign of their angular momentum."
   ]
  },
  {
   "cell_type": "markdown",
   "metadata": {},
   "source": [
    "When the quadrupoles are rotated, the matched solution is tilted in the x-y plane. The emittance exchange becomes quite large in this case."
   ]
  },
  {
   "cell_type": "markdown",
   "metadata": {},
   "source": [
    "![](matched_vs_sc_fodo_skew_mode2.png){width=92% fig-align=center}\n",
    "\n",
    "![Fig. 14. The \"mode 1\" (top) and \"mode 2\" (bottom) matched solutions in a FODO lattice with skew quadrupoles. The intensity ($Q$) is represented by the color scale. In the right columns, solid lines represent $x$ and dashed lines represent $y$.](matched_vs_sc_fodo_skew_mode1.png){width=92% fig-align=center}"
   ]
  },
  {
   "cell_type": "markdown",
   "metadata": {},
   "source": [
    "Here we noticed an asymmetry in the solutions. The beam always wants to be tilted in the same direction in the $x$-$y$ plane as soon as space charge is turned on."
   ]
  },
  {
   "cell_type": "markdown",
   "metadata": {},
   "source": [
    "## 4. Conclusion\n",
    "\n",
    "I'll stop there. I hope this gave a flavor of what went into this paper. In future posts, I will discuss the importance of this matching routine for experiments."
   ]
  },
  {
   "cell_type": "code",
   "execution_count": null,
   "metadata": {},
   "outputs": [],
   "source": []
  }
 ],
 "metadata": {
  "kernelspec": {
   "display_name": "Python 3 (ipykernel)",
   "language": "python",
   "name": "python3"
  },
  "language_info": {
   "codemirror_mode": {
    "name": "ipython",
    "version": 3
   },
   "file_extension": ".py",
   "mimetype": "text/x-python",
   "name": "python",
   "nbconvert_exporter": "python",
   "pygments_lexer": "ipython3",
   "version": "3.10.13"
  },
  "toc": {
   "base_numbering": 1,
   "nav_menu": {},
   "number_sections": true,
   "sideBar": true,
   "skip_h1_title": false,
   "title_cell": "Table of Contents",
   "title_sidebar": "Contents",
   "toc_cell": false,
   "toc_position": {},
   "toc_section_display": true,
   "toc_window_display": false
  }
 },
 "nbformat": 4,
 "nbformat_minor": 4
}
